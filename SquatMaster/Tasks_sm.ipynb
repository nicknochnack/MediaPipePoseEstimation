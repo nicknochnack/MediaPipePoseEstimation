{
 "cells": [
  {
   "cell_type": "code",
   "execution_count": 1,
   "metadata": {},
   "outputs": [
    {
     "name": "stdout",
     "output_type": "stream",
     "text": [
      "Task list sm\n"
     ]
    }
   ],
   "source": [
    "print('Task list sm')"
   ]
  },
  {
   "cell_type": "markdown",
   "metadata": {},
   "source": [
    "Task list - wk2345\n",
    "\n",
    "wwe would like to get different functions up and running so the squat master can work to deliver \n",
    "a. Provide stance feedback \n",
    "\n",
    "b. Count reps - counting reps down\n",
    "\n",
    "c. Form analyser\n",
    "\n",
    "\n",
    "To do that we need to create the following functions\n",
    "\n",
    "1.  distance between feet \n",
    "\n",
    "    should be simular to shoulder width given by the pose estimator key points \n",
    "\n",
    "2. angle estimation of the forward lean\n",
    "\n",
    "    logic - torso frame will change in relative dimension depending on the leaning\n",
    "\n",
    "3.  angle of the feet \n",
    "\n",
    "    estimated based on angle with hip \n",
    "\n",
    "4.  hip angle \n",
    "\n",
    "    calculated based on hip line and knee\n",
    "\n",
    "5. squat depth estimator \n",
    "\n",
    "    knee angle \n",
    "\n",
    "let us work on thursday to create these functions and make it work. will add hand drawn logic tomorrow. let us come prepared and finish these taks this week. "
   ]
  }
 ],
 "metadata": {
  "kernelspec": {
   "display_name": "base",
   "language": "python",
   "name": "python3"
  },
  "language_info": {
   "codemirror_mode": {
    "name": "ipython",
    "version": 3
   },
   "file_extension": ".py",
   "mimetype": "text/x-python",
   "name": "python",
   "nbconvert_exporter": "python",
   "pygments_lexer": "ipython3",
   "version": "3.11.5"
  }
 },
 "nbformat": 4,
 "nbformat_minor": 2
}
