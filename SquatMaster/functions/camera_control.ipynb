{
 "cells": [
  {
   "cell_type": "code",
   "execution_count": 2,
   "metadata": {},
   "outputs": [],
   "source": [
    "import cv2\n",
    "from pynput import keyboard\n",
    "\n",
    "def main():\n",
    "    # Initialize camera\n",
    "    cap = cv2.VideoCapture(1)\n",
    "    capturing = False\n",
    "    \n",
    "\n",
    "    while True:\n",
    "        if capturing:\n",
    "            # Read and display live feed\n",
    "            ret, frame = cap.read()\n",
    "            print('i am capturing')\n",
    "            if ret:\n",
    "                cv2.imshow('Live Feed', frame)\n",
    "\n",
    "        #key = cv2.waitKey(1) & 0xFF\n",
    "\n",
    "        # Check for hotkeys\n",
    "        if keyboard.Key == 's':  \n",
    "            capturing = True\n",
    "            print('Camera is on')\n",
    "        elif keyboard.Key == 'r' and capturing:\n",
    "            capture_frame(cap)\n",
    "            print('feed is being captured')\n",
    "        elif keyboard.Key == 't':\n",
    "            standby_mode()\n",
    "        elif keyboard.Key == 'q':\n",
    "            close_feed(cap)\n",
    "            break\n",
    "\n",
    "def capture_frame(cap):\n",
    "    # Capture and process a single frame\n",
    "    ret, frame = cap.read()\n",
    "    if ret:\n",
    "        # Process and save frame or perform actions\n",
    "        cv2.imshow('Captured Frame', frame)\n",
    "        # Save or process frame as needed\n",
    "\n",
    "def standby_mode():\n",
    "    # Implement standby functionality\n",
    "    print(\"Entering Standby Mode\")\n",
    "    cv2.destroyAllWindows()\n",
    "\n",
    "def close_feed(cap):\n",
    "    # Release the camera and close all windows\n",
    "    cap.release()\n",
    "    cv2.destroyAllWindows()\n",
    "\n",
    "if __name__ == \"__main__\":\n",
    "    main()\n"
   ]
  },
  {
   "cell_type": "code",
   "execution_count": 1,
   "metadata": {},
   "outputs": [
    {
     "ename": "",
     "evalue": "",
     "output_type": "error",
     "traceback": [
      "\u001b[1;31mThe Kernel crashed while executing code in the the current cell or a previous cell. Please review the code in the cell(s) to identify a possible cause of the failure. Click <a href='https://aka.ms/vscodeJupyterKernelCrash'>here</a> for more info. View Jupyter <a href='command:jupyter.viewOutput'>log</a> for further details."
     ]
    }
   ],
   "source": [
    "import cv2\n",
    "\n",
    "# Initialize camera\n",
    "while True:\n",
    "    cap = cv2.VideoCapture(1)\n",
    "    ret, frame = cap.read()\n",
    "    cv2.imshow('Live Feed', frame)\n",
    "\n",
    "\n",
    "    if cv2.waitKey(1) & 0xFF == ord('q'):\n",
    "        cap.release()\n",
    "        cv2.destroyAllWindows()\n",
    "        break"
   ]
  },
  {
   "cell_type": "code",
   "execution_count": 2,
   "metadata": {},
   "outputs": [
    {
     "ename": "",
     "evalue": "",
     "output_type": "error",
     "traceback": [
      "\u001b[1;31mThe Kernel crashed while executing code in the the current cell or a previous cell. Please review the code in the cell(s) to identify a possible cause of the failure. Click <a href='https://aka.ms/vscodeJupyterKernelCrash'>here</a> for more info. View Jupyter <a href='command:jupyter.viewOutput'>log</a> for further details."
     ]
    }
   ],
   "source": [
    "import cv2\n",
    "import keyboard\n",
    "\n",
    "def main():\n",
    "    # Initialize camera\n",
    "    cap = cv2.VideoCapture(0)\n",
    "    capturing = False\n",
    "\n",
    "    while True:\n",
    "        # Check for hotkeys\n",
    "        if keyboard.is_pressed('s'):  \n",
    "            capturing = True\n",
    "        elif keyboard.is_pressed('r') and capturing:\n",
    "            capture_frame(cap)\n",
    "        elif keyboard.is_pressed('t'):\n",
    "            standby_mode()\n",
    "        elif keyboard.is_pressed('q'):\n",
    "            close_feed(cap)\n",
    "            break\n",
    "\n",
    "        if capturing:\n",
    "            # Show live feed\n",
    "            ret, frame = cap.read()\n",
    "            if ret:\n",
    "                cv2.imshow('Live Feed', frame)\n",
    "\n",
    "        if cv2.waitKey(1) & 0xFF == ord('q'):\n",
    "            break\n",
    "\n",
    "def capture_frame(cap):\n",
    "    # Capture and process a single frame\n",
    "    ret, frame = cap.read()\n",
    "    if ret:\n",
    "        # Process and save frame or perform actions\n",
    "        cv2.imshow('Captured Frame', frame)\n",
    "        # Save or process frame as needed\n",
    "\n",
    "def standby_mode():\n",
    "    # Implement standby functionality\n",
    "    print(\"Entering Standby Mode\")\n",
    "    cv2.destroyAllWindows()\n",
    "\n",
    "def close_feed(cap):\n",
    "    # Release the camera and close all windows\n",
    "    cap.release()\n",
    "    cv2.destroyAllWindows()\n",
    "\n",
    "if __name__ == \"__main__\":\n",
    "    main()\n"
   ]
  },
  {
   "cell_type": "code",
   "execution_count": 1,
   "metadata": {},
   "outputs": [
    {
     "ename": "AttributeError",
     "evalue": "module 'pynput.keyboard' has no attribute 'is_pressed'",
     "output_type": "error",
     "traceback": [
      "\u001b[0;31m---------------------------------------------------------------------------\u001b[0m",
      "\u001b[0;31mAttributeError\u001b[0m                            Traceback (most recent call last)",
      "\u001b[1;32m/Users/vijaishankarbhavanishankar/Documents/EschAR/MediaPipePoseEstimation-eschar/SquatMaster/functions/camera_control.ipynb Cell 5\u001b[0m line \u001b[0;36m3\n\u001b[1;32m     <a href='vscode-notebook-cell:/Users/vijaishankarbhavanishankar/Documents/EschAR/MediaPipePoseEstimation-eschar/SquatMaster/functions/camera_control.ipynb#W5sZmlsZQ%3D%3D?line=31'>32</a>\u001b[0m     cv2\u001b[39m.\u001b[39mdestroyAllWindows()\n\u001b[1;32m     <a href='vscode-notebook-cell:/Users/vijaishankarbhavanishankar/Documents/EschAR/MediaPipePoseEstimation-eschar/SquatMaster/functions/camera_control.ipynb#W5sZmlsZQ%3D%3D?line=33'>34</a>\u001b[0m \u001b[39mif\u001b[39;00m \u001b[39m__name__\u001b[39m \u001b[39m==\u001b[39m \u001b[39m\"\u001b[39m\u001b[39m__main__\u001b[39m\u001b[39m\"\u001b[39m:\n\u001b[0;32m---> <a href='vscode-notebook-cell:/Users/vijaishankarbhavanishankar/Documents/EschAR/MediaPipePoseEstimation-eschar/SquatMaster/functions/camera_control.ipynb#W5sZmlsZQ%3D%3D?line=34'>35</a>\u001b[0m     main()\n",
      "\u001b[1;32m/Users/vijaishankarbhavanishankar/Documents/EschAR/MediaPipePoseEstimation-eschar/SquatMaster/functions/camera_control.ipynb Cell 5\u001b[0m line \u001b[0;36m1\n\u001b[1;32m      <a href='vscode-notebook-cell:/Users/vijaishankarbhavanishankar/Documents/EschAR/MediaPipePoseEstimation-eschar/SquatMaster/functions/camera_control.ipynb#W5sZmlsZQ%3D%3D?line=5'>6</a>\u001b[0m cap \u001b[39m=\u001b[39m cv2\u001b[39m.\u001b[39mVideoCapture(\u001b[39m0\u001b[39m)\n\u001b[1;32m      <a href='vscode-notebook-cell:/Users/vijaishankarbhavanishankar/Documents/EschAR/MediaPipePoseEstimation-eschar/SquatMaster/functions/camera_control.ipynb#W5sZmlsZQ%3D%3D?line=7'>8</a>\u001b[0m \u001b[39mwhile\u001b[39;00m \u001b[39mTrue\u001b[39;00m:\n\u001b[1;32m      <a href='vscode-notebook-cell:/Users/vijaishankarbhavanishankar/Documents/EschAR/MediaPipePoseEstimation-eschar/SquatMaster/functions/camera_control.ipynb#W5sZmlsZQ%3D%3D?line=8'>9</a>\u001b[0m     \u001b[39m# Check for hotkeys\u001b[39;00m\n\u001b[0;32m---> <a href='vscode-notebook-cell:/Users/vijaishankarbhavanishankar/Documents/EschAR/MediaPipePoseEstimation-eschar/SquatMaster/functions/camera_control.ipynb#W5sZmlsZQ%3D%3D?line=9'>10</a>\u001b[0m     \u001b[39mif\u001b[39;00m keyboard\u001b[39m.\u001b[39mis_pressed(\u001b[39m'\u001b[39m\u001b[39ms\u001b[39m\u001b[39m'\u001b[39m):  \u001b[39m# Replace 'start_hotkey' with your chosen key\u001b[39;00m\n\u001b[1;32m     <a href='vscode-notebook-cell:/Users/vijaishankarbhavanishankar/Documents/EschAR/MediaPipePoseEstimation-eschar/SquatMaster/functions/camera_control.ipynb#W5sZmlsZQ%3D%3D?line=10'>11</a>\u001b[0m         start_capture(cap)\n\u001b[1;32m     <a href='vscode-notebook-cell:/Users/vijaishankarbhavanishankar/Documents/EschAR/MediaPipePoseEstimation-eschar/SquatMaster/functions/camera_control.ipynb#W5sZmlsZQ%3D%3D?line=11'>12</a>\u001b[0m     \u001b[39melif\u001b[39;00m keyboard\u001b[39m.\u001b[39mis_pressed(\u001b[39m'\u001b[39m\u001b[39mt\u001b[39m\u001b[39m'\u001b[39m):\n",
      "\u001b[0;31mAttributeError\u001b[0m: module 'pynput.keyboard' has no attribute 'is_pressed'"
     ]
    }
   ],
   "source": [
    "import cv2\n",
    "from pynput import keyboard  # or pynput\n",
    "\n",
    "def main():\n",
    "    # Initialize camera\n",
    "    cap = cv2.VideoCapture(0)\n",
    "\n",
    "    while True:\n",
    "        # Check for hotkeys\n",
    "        if keyboard.is_pressed('s'):  # Replace 'start_hotkey' with your chosen key\n",
    "            start_capture(cap)\n",
    "        elif keyboard.is_pressed('t'):\n",
    "            standby_mode(cap)\n",
    "        elif keyboard.is_pressed('q'):\n",
    "            close_feed(cap)\n",
    "            break\n",
    "\n",
    "def start_capture(cap):\n",
    "    # Capture and process video frames\n",
    "    ret, frame = cap.read()\n",
    "    if ret:\n",
    "        # Process frame\n",
    "        cv2.imshow('Frame', frame)\n",
    "\n",
    "def standby_mode(cap):\n",
    "    # Implement standby functionality\n",
    "    pass\n",
    "\n",
    "def close_feed(cap):\n",
    "    # Release the camera and close all windows\n",
    "    cap.release()\n",
    "    cv2.destroyAllWindows()\n",
    "\n",
    "if __name__ == \"__main__\":\n",
    "    main()\n"
   ]
  }
 ],
 "metadata": {
  "kernelspec": {
   "display_name": "base",
   "language": "python",
   "name": "python3"
  },
  "language_info": {
   "codemirror_mode": {
    "name": "ipython",
    "version": 3
   },
   "file_extension": ".py",
   "mimetype": "text/x-python",
   "name": "python",
   "nbconvert_exporter": "python",
   "pygments_lexer": "ipython3",
   "version": "3.11.5"
  }
 },
 "nbformat": 4,
 "nbformat_minor": 2
}
