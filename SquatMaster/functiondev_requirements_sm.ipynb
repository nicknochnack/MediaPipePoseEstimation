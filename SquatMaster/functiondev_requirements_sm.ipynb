{
 "cells": [
  {
   "cell_type": "markdown",
   "metadata": {},
   "source": [
    "# Function development required to make squat master prototype \n",
    "\n",
    "We need to develop a common architecture \n",
    "\n",
    "We are using the mediapipe model for pose detection\n",
    "\n",
    "SquatMaster/Data/Pictures/pose_landmarks_index.png\n",
    "\n",
    "\n",
    "Our application will need to \n",
    "1. count reps  \n",
    "    a. start of exercise - in guided format we will guide to it  \n",
    "    b. end of exercise  - in guided format we will guide to it  \n",
    "    c. cadance timer  \n",
    "2. detect form  \n",
    "    a. corrections on the fly  \n",
    "    b. power generation  \n",
    "    c. temsion on the muscle  \n",
    "\n",
    "For every exercise we need a common set of functions/operations  \n",
    "\n",
    "Common functions  \n",
    "\n",
    "1. activation/closing of video feed  \n",
    "2. distance between keypoints or sets of keypoints  \n",
    "3. angle between keypoints  \n",
    "4. torso lean  - FEATURE\n",
    "5. cadance timer  \n",
    "6. exercise stage classifier  \n",
    "7. imbalance detection  \n",
    "8. breathing guidance - inhale/exhale instruction  - FEATURE\n",
    "9. marker positioning for guidance  \n",
    "\n",
    "\n",
    "\n",
    "Apart from that we need to classify certain things that might be very accurate with keypoints.  \n",
    "\n",
    "10. heel raise  \n",
    "11. back arch  \n",
    "12. barebell detection  \n",
    "13. dumbell detection  \n",
    "14. angle rotation  \n",
    "15. knee rotation  \n",
    "16. pelvic rotation  \n",
    "17. body type classifer  \n",
    "18. neck positioning  \n",
    "19. exercise band detection  \n",
    "\n"
   ]
  },
  {
   "cell_type": "markdown",
   "metadata": {},
   "source": [
    "Tasks list - Squat Master  \n",
    "\n",
    "| Jasim | Rafig | Staffan |\n",
    "|----------|----------|----------|\n",
    "| 1 | 4 | 7 |\n",
    "| 2 | 5 | 8 |\n",
    "| 3 | 6 | 9 |\n",
    "| 10 | 11 | 12 |\n",
    "| 13 | 14 | 15 |\n",
    "| 16 | 17,19 | 18 |\n"
   ]
  },
  {
   "cell_type": "code",
   "execution_count": 1,
   "metadata": {},
   "outputs": [
    {
     "name": "stdout",
     "output_type": "stream",
     "text": [
      "funcdevreq\n"
     ]
    }
   ],
   "source": [
    "print('funcdevreq')"
   ]
  }
 ],
 "metadata": {
  "kernelspec": {
   "display_name": "base",
   "language": "python",
   "name": "python3"
  },
  "language_info": {
   "codemirror_mode": {
    "name": "ipython",
    "version": 3
   },
   "file_extension": ".py",
   "mimetype": "text/x-python",
   "name": "python",
   "nbconvert_exporter": "python",
   "pygments_lexer": "ipython3",
   "version": "3.11.5"
  }
 },
 "nbformat": 4,
 "nbformat_minor": 2
}
